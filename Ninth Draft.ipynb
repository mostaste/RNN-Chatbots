{
 "cells": [
  {
   "cell_type": "markdown",
   "metadata": {},
   "source": [
    "# Declaration"
   ]
  },
  {
   "cell_type": "code",
   "execution_count": 1,
   "metadata": {},
   "outputs": [
    {
     "name": "stderr",
     "output_type": "stream",
     "text": [
      "Using TensorFlow backend.\n"
     ]
    },
    {
     "data": {
      "text/plain": [
       "'2.3.1'"
      ]
     },
     "execution_count": 1,
     "metadata": {},
     "output_type": "execute_result"
    }
   ],
   "source": [
    "import keras\n",
    "import re\n",
    "import nltk\n",
    "import numpy as np\n",
    "import tensorflow as tf\n",
    "from pickle import dump\n",
    "from pickle import load\n",
    "from keras import preprocessing\n",
    "from keras import optimizers\n",
    "from keras.preprocessing.text import Tokenizer\n",
    "from keras.preprocessing.sequence import pad_sequences\n",
    "from keras.models import Sequential\n",
    "from keras.models import Model\n",
    "from keras.models import load_model\n",
    "from keras.layers import SeparableConv1D, MaxPooling1D\n",
    "from keras.layers import Input\n",
    "from keras.layers import LSTM\n",
    "from keras.layers import GRU\n",
    "from keras.layers import Bidirectional\n",
    "from keras.layers import Embedding\n",
    "from keras.layers import Dense\n",
    "from keras.layers import Dropout\n",
    "from keras.layers import Activation\n",
    "from keras.layers import Flatten\n",
    "from keras.utils import to_categorical\n",
    "from keras.utils.vis_utils import plot_model\n",
    "from keras.callbacks import ModelCheckpoint\n",
    "\n",
    "\n",
    "\n",
    "keras.__version__"
   ]
  },
  {
   "cell_type": "markdown",
   "metadata": {},
   "source": [
    "# Data Loading"
   ]
  },
  {
   "cell_type": "code",
   "execution_count": 2,
   "metadata": {},
   "outputs": [
    {
     "name": "stdout",
     "output_type": "stream",
     "text": [
      "Found 29620 sentences from TrainFrom Text\n",
      "Found 29620 sentences from TrainTo Text\n",
      "Found 521666 words from TrainFrom Text\n",
      "Found 479824 words from TrainTo Text\n"
     ]
    }
   ],
   "source": [
    "trainFromTextFile = \"train.FROM\"\n",
    "trainToTextFile   = \"train.TO\"\n",
    "trainFromText     = open(trainFromTextFile, 'r', encoding='utf-8').read().lower()\n",
    "trainToText       = open(trainToTextFile, 'r', encoding='utf-8').read().lower()\n",
    "trainFromSentence = re.split('\\n', trainFromText)\n",
    "trainToSentence   = re.split('\\n', trainToText)\n",
    "trainFromWords = re.split(' |\\n', trainFromText)\n",
    "trainToWords   = re.split(' |\\n', trainToText)\n",
    "\n",
    "print('Found %s sentences from TrainFrom Text' %len(trainFromSentence))\n",
    "print('Found %s sentences from TrainTo Text' %len(trainToSentence))\n",
    "print('Found %s words from TrainFrom Text' %len(trainFromWords))\n",
    "print('Found %s words from TrainTo Text' %len(trainToWords))"
   ]
  },
  {
   "cell_type": "code",
   "execution_count": 3,
   "metadata": {},
   "outputs": [],
   "source": [
    "trainInput = trainFromSentence[2000:3000]\n",
    "trainTarget = trainToSentence[2000:3000]"
   ]
  },
  {
   "cell_type": "code",
   "execution_count": 4,
   "metadata": {},
   "outputs": [
    {
     "name": "stdout",
     "output_type": "stream",
     "text": [
      "Train From File:\n",
      "\n",
      "Found 1000 sentences.\n",
      "Found 1000 sequences.\n",
      "Found 4161 unique tokens.\n",
      "Found 4161 unique words.\n"
     ]
    }
   ],
   "source": [
    "max_len = 50    # Cut comments after 100 words\n",
    "max_words = 10000  # Consider the top 10,000 words in the dataset\n",
    "\n",
    "tokenizerInput = Tokenizer()\n",
    "tokenizerInput.fit_on_texts(trainInput)\n",
    "\n",
    "sequencesInputEncode = tokenizerInput.texts_to_sequences(trainInput)\n",
    "sequencesInputEncode = pad_sequences(sequencesInputEncode, maxlen=max_len)  #Pad so all the arrays are the same size\n",
    "\n",
    "Inputindex = tokenizerInput.word_index\n",
    "Inputcount = tokenizerInput.word_counts\n",
    "nEncoderToken = len(tokenizerInput.word_index)+1\n",
    "\n",
    "trainInputEncoded = to_categorical([sequencesInputEncode])\n",
    "trainInputEncoded = trainInputEncoded.reshape(len(trainInput), max_len, nEncoderToken)\n",
    "\n",
    "print(\"Train From File:\\n\")\n",
    "print('Found %s sentences.' %len(trainInput))\n",
    "print('Found %s sequences.' %len(sequencesInputEncode))\n",
    "print('Found %s unique tokens.' % len(Inputindex))\n",
    "print('Found %s unique words.' % len(Inputcount))"
   ]
  },
  {
   "cell_type": "code",
   "execution_count": 5,
   "metadata": {},
   "outputs": [
    {
     "name": "stdout",
     "output_type": "stream",
     "text": [
      "Train From File:\n",
      "\n",
      "Found 1000 sentences.\n",
      "Found 1000 sequences.\n",
      "Found 4057 unique tokens.\n",
      "Found 4057 unique words.\n"
     ]
    }
   ],
   "source": [
    "tokenizerTarget = Tokenizer()\n",
    "tokenizerTarget.fit_on_texts(trainTarget)\n",
    "\n",
    "sequencesInputDecode = tokenizerTarget.texts_to_sequences(trainTarget)\n",
    "sequencesTargetDecode = tokenizerTarget.texts_to_sequences(trainTarget)\n",
    "\n",
    "#Pops the First Element in the Sequence (To prepare for Decoder Target)\n",
    "for seq in sequencesTargetDecode:\n",
    "    if seq:\n",
    "        _ = seq.pop(0)\n",
    "        \n",
    "sequencesInputDecode = pad_sequences(sequencesInputDecode, maxlen=max_len)  #Pad so all the arrays are the same size\n",
    "sequencesTargetDecode = pad_sequences(sequencesTargetDecode, maxlen=max_len)  #Pad so all the arrays are the same size\n",
    "\n",
    "Targetindex = tokenizerTarget.word_index\n",
    "Targetcount = tokenizerTarget.word_counts\n",
    "nDecoderToken = len(tokenizerTarget.word_index)+1\n",
    "\n",
    "trainInputDecoded = to_categorical([sequencesInputDecode], num_classes=nDecoderToken)\n",
    "trainTargetDecoded = to_categorical([sequencesTargetDecode], num_classes=nDecoderToken)\n",
    "\n",
    "trainInputDecoded = trainInputDecoded.reshape(len(trainTarget), max_len, nDecoderToken)\n",
    "trainTargetDecoded = trainTargetDecoded.reshape(len(trainTarget), max_len, nDecoderToken)\n",
    "\n",
    "print(\"Train From File:\\n\")\n",
    "print('Found %s sentences.' %len(trainTarget))\n",
    "print('Found %s sequences.' %len(sequencesInputDecode))\n",
    "print('Found %s unique tokens.' % len(Targetindex))\n",
    "print('Found %s unique words.' % len(Targetcount))"
   ]
  },
  {
   "cell_type": "code",
   "execution_count": 6,
   "metadata": {},
   "outputs": [],
   "source": [
    "# Reverse-lookup token index to decode sequences back to something readable.\n",
    "reverse_input_char_index = dict((i, char) for char, i in Inputindex.items())\n",
    "reverse_target_char_index = dict((i, char) for char, i in Targetindex.items())"
   ]
  },
  {
   "cell_type": "code",
   "execution_count": 7,
   "metadata": {},
   "outputs": [],
   "source": [
    "trainInputEncoded = trainInputEncoded.mean(axis=2, keepdims=False)\n",
    "trainInputDecoded = trainInputDecoded.mean(axis=2, keepdims=False)\n",
    "trainTargetDecoded = trainTargetDecoded.mean(axis=2, keepdims=False)"
   ]
  },
  {
   "cell_type": "code",
   "execution_count": 8,
   "metadata": {},
   "outputs": [
    {
     "name": "stdout",
     "output_type": "stream",
     "text": [
      "(1000, 50)\n",
      "(1000, 50)\n",
      "(1000, 50)\n"
     ]
    }
   ],
   "source": [
    "print(trainInputEncoded.shape)\n",
    "print(trainInputDecoded.shape)\n",
    "print(trainTargetDecoded.shape)"
   ]
  },
  {
   "cell_type": "code",
   "execution_count": 9,
   "metadata": {},
   "outputs": [
    {
     "data": {
      "text/plain": [
       "4"
      ]
     },
     "execution_count": 9,
     "metadata": {},
     "output_type": "execute_result"
    }
   ],
   "source": [
    "Inputindex['to']"
   ]
  },
  {
   "cell_type": "code",
   "execution_count": 10,
   "metadata": {},
   "outputs": [
    {
     "data": {
      "text/plain": [
       "4"
      ]
     },
     "execution_count": 10,
     "metadata": {},
     "output_type": "execute_result"
    }
   ],
   "source": [
    "sequencesTargetDecode[2,48]"
   ]
  },
  {
   "cell_type": "code",
   "execution_count": 11,
   "metadata": {},
   "outputs": [
    {
     "data": {
      "text/plain": [
       "array([[0.00024643, 0.00024643, 0.00024643, ..., 0.00024643, 0.00024643,\n",
       "        0.00024643],\n",
       "       [0.00024643, 0.00024643, 0.00024643, ..., 0.00024643, 0.00024643,\n",
       "        0.00024643],\n",
       "       [0.00024643, 0.00024643, 0.00024643, ..., 0.00024643, 0.00024643,\n",
       "        0.00024643],\n",
       "       ...,\n",
       "       [0.00024643, 0.00024643, 0.00024643, ..., 0.00024643, 0.00024643,\n",
       "        0.00024643],\n",
       "       [0.00024643, 0.00024643, 0.00024643, ..., 0.00024643, 0.00024643,\n",
       "        0.00024643],\n",
       "       [0.00024643, 0.00024643, 0.00024643, ..., 0.00024643, 0.00024643,\n",
       "        0.00024643]], dtype=float32)"
      ]
     },
     "execution_count": 11,
     "metadata": {},
     "output_type": "execute_result"
    }
   ],
   "source": [
    "trainTargetDecoded"
   ]
  },
  {
   "cell_type": "markdown",
   "metadata": {},
   "source": [
    "# Embedding"
   ]
  },
  {
   "cell_type": "code",
   "execution_count": 12,
   "metadata": {},
   "outputs": [
    {
     "name": "stdout",
     "output_type": "stream",
     "text": [
      "Found 400000 word vectors.\n"
     ]
    }
   ],
   "source": [
    "glove_dir = r'C:\\Users\\mosta\\Desktop\\Deep Learning Projects\\Projects\\Lab Exercises\\Machine Learning Projects\\glove.6B\\glove.6B.300d.txt'\n",
    "\n",
    "embeddings_index = {}\n",
    "f = open(glove_dir, encoding=\"utf8\")\n",
    "for line in f:\n",
    "    values = line.split()\n",
    "    word = values[0]\n",
    "    coefs = np.asarray(values[1:], dtype='float32')\n",
    "    embeddings_index[word] = coefs\n",
    "f.close()\n",
    "\n",
    "print('Found %s word vectors.' % len(embeddings_index))"
   ]
  },
  {
   "cell_type": "code",
   "execution_count": 13,
   "metadata": {},
   "outputs": [],
   "source": [
    "# The Embedding layer takes at least two arguments:\n",
    "# the number of possible tokens, the maximum word index,\n",
    "# and the dimensionality of the embeddings, here 300.\n",
    "embedding_dim = 300\n",
    "\n",
    "def CreateEmbeddingMatrix(nWords, is_Encoder: bool):\n",
    "    embedding_matrix = np.zeros((nWords, embedding_dim))\n",
    "    if is_Encoder:\n",
    "        for word, i in Inputindex.items():\n",
    "            embedding_vector = embeddings_index.get(word)\n",
    "            if i < nWords:\n",
    "                if embedding_vector is not None:\n",
    "                    # Words not found in embedding index will be all-zeros.\n",
    "                    embedding_matrix[i] = embedding_vector\n",
    "        return embedding_matrix\n",
    "    else:\n",
    "        for word, i in Targetindex.items():\n",
    "            embedding_vector = embeddings_index.get(word)\n",
    "            if i < nWords:\n",
    "                if embedding_vector is not None:\n",
    "                    # Words not found in embedding index will be all-zeros.\n",
    "                    embedding_matrix[i] = embedding_vector\n",
    "        return embedding_matrix\n",
    "        "
   ]
  },
  {
   "cell_type": "code",
   "execution_count": 14,
   "metadata": {},
   "outputs": [],
   "source": [
    "encoder_embedding_matrix = CreateEmbeddingMatrix(nEncoderToken, True)\n",
    "decoder_embedding_matrix = CreateEmbeddingMatrix(nDecoderToken, False)"
   ]
  },
  {
   "cell_type": "code",
   "execution_count": 15,
   "metadata": {},
   "outputs": [
    {
     "name": "stdout",
     "output_type": "stream",
     "text": [
      "(4162, 300)\n",
      "(4058, 300)\n"
     ]
    }
   ],
   "source": [
    "print(encoder_embedding_matrix.shape)\n",
    "print(decoder_embedding_matrix.shape)"
   ]
  },
  {
   "cell_type": "markdown",
   "metadata": {},
   "source": [
    "# Encoder-Decoder"
   ]
  },
  {
   "cell_type": "code",
   "execution_count": 16,
   "metadata": {},
   "outputs": [],
   "source": [
    "# LSTM takes in only 3 Dimensions.  Embedding adds 1 Dimension, therefore, data has to be 2 Dimensions"
   ]
  },
  {
   "cell_type": "code",
   "execution_count": 17,
   "metadata": {},
   "outputs": [
    {
     "name": "stdout",
     "output_type": "stream",
     "text": [
      "WARNING:tensorflow:From C:\\Users\\mosta\\Anaconda3\\lib\\site-packages\\tensorflow_core\\python\\ops\\resource_variable_ops.py:1630: calling BaseResourceVariable.__init__ (from tensorflow.python.ops.resource_variable_ops) with constraint is deprecated and will be removed in a future version.\n",
      "Instructions for updating:\n",
      "If using Keras pass *_constraint arguments to layers.\n",
      "Model: \"model_1\"\n",
      "__________________________________________________________________________________________________\n",
      "Layer (type)                    Output Shape         Param #     Connected to                     \n",
      "==================================================================================================\n",
      "input_1 (InputLayer)            (None, None)         0                                            \n",
      "__________________________________________________________________________________________________\n",
      "input_2 (InputLayer)            (None, None)         0                                            \n",
      "__________________________________________________________________________________________________\n",
      "embedding_1 (Embedding)         (None, None, 300)    1248600     input_1[0][0]                    \n",
      "__________________________________________________________________________________________________\n",
      "embedding_2 (Embedding)         (None, None, 300)    1217400     input_2[0][0]                    \n",
      "__________________________________________________________________________________________________\n",
      "lstm_1 (LSTM)                   [(None, 300), (None, 721200      embedding_1[1][0]                \n",
      "__________________________________________________________________________________________________\n",
      "lstm_2 (LSTM)                   [(None, 300), (None, 721200      embedding_2[0][0]                \n",
      "                                                                 lstm_1[0][1]                     \n",
      "                                                                 lstm_1[0][2]                     \n",
      "__________________________________________________________________________________________________\n",
      "dense_1 (Dense)                 (None, 50)           15050       lstm_2[0][0]                     \n",
      "==================================================================================================\n",
      "Total params: 3,923,450\n",
      "Trainable params: 3,923,450\n",
      "Non-trainable params: 0\n",
      "__________________________________________________________________________________________________\n"
     ]
    }
   ],
   "source": [
    "# Define the Encoder\n",
    "encoder_inputs = Input(shape=(None,))\n",
    "encoder_embed = Embedding(nEncoderToken, embedding_dim, weights=[encoder_embedding_matrix])\n",
    "encoder_lstm = LSTM(embedding_dim, return_state=True)\n",
    "encoder_inference_inputs = encoder_embed(encoder_inputs)\n",
    "encoder = encoder_embed(encoder_inputs)\n",
    "encoder, state_h, state_c = encoder_lstm(encoder)\n",
    "encoder_states = [state_h, state_c]\n",
    "\n",
    "# Define the decoder, using `encoder_states` as initial state.\n",
    "decoder_inputs = Input(shape=(None,))\n",
    "decoder_embed = Embedding(nDecoderToken, embedding_dim, weights=[decoder_embedding_matrix])\n",
    "decoder_lstm = LSTM(embedding_dim, return_state=True)\n",
    "decoder_dense = Dense(max_len, activation='softmax')\n",
    "\n",
    "decoder = decoder_embed(decoder_inputs)\n",
    "decoder, _, _ = decoder_lstm(decoder, initial_state=encoder_states)\n",
    "decoder_outputs = decoder_dense(decoder)\n",
    "\n",
    "# Define the model that will turn `encoder_input_data` & `decoder_input_data` into `decoder_target_data`\n",
    "model = Model([encoder_inputs, decoder_inputs], decoder_outputs)\n",
    "model.summary()"
   ]
  },
  {
   "cell_type": "code",
   "execution_count": 33,
   "metadata": {},
   "outputs": [
    {
     "name": "stdout",
     "output_type": "stream",
     "text": [
      "Epoch 1/100\n",
      "1000/1000 [==============================] - 3s 3ms/step - loss: 601289.1730 - accuracy: 0.3750\n",
      "\n",
      "Epoch 00001: loss improved from inf to 601289.17300, saving model to C:\\Users\\mosta\\Desktop\\Deep Learning Projects\\Projects\\Lib\\word_pred_Model4.h5\n",
      "Epoch 2/100\n",
      "1000/1000 [==============================] - 2s 2ms/step - loss: 612004.0355 - accuracy: 0.3750\n",
      "\n",
      "Epoch 00002: loss did not improve from 601289.17300\n",
      "Epoch 3/100\n",
      "1000/1000 [==============================] - 3s 3ms/step - loss: 620500.4260 - accuracy: 0.3750\n",
      "\n",
      "Epoch 00003: loss did not improve from 601289.17300\n",
      "Epoch 4/100\n",
      "1000/1000 [==============================] - 2s 2ms/step - loss: 629145.9640 - accuracy: 0.3750\n",
      "\n",
      "Epoch 00004: loss did not improve from 601289.17300\n",
      "Epoch 5/100\n",
      "1000/1000 [==============================] - 3s 3ms/step - loss: 638592.6870 - accuracy: 0.3750\n",
      "\n",
      "Epoch 00005: loss did not improve from 601289.17300\n",
      "Epoch 6/100\n",
      "1000/1000 [==============================] - 2s 2ms/step - loss: 645333.0818 - accuracy: 0.3750\n",
      "\n",
      "Epoch 00006: loss did not improve from 601289.17300\n",
      "Epoch 7/100\n",
      "1000/1000 [==============================] - 3s 3ms/step - loss: 652358.7928 - accuracy: 0.3750\n",
      "\n",
      "Epoch 00007: loss did not improve from 601289.17300\n",
      "Epoch 8/100\n",
      "1000/1000 [==============================] - 2s 2ms/step - loss: 661644.5295 - accuracy: 0.3750\n",
      "\n",
      "Epoch 00008: loss did not improve from 601289.17300\n",
      "Epoch 9/100\n",
      "1000/1000 [==============================] - 3s 3ms/step - loss: 669461.4475 - accuracy: 0.3750A: 1s - loss: 667359.1484 - \n",
      "\n",
      "Epoch 00009: loss did not improve from 601289.17300\n",
      "Epoch 10/100\n",
      "1000/1000 [==============================] - 2s 2ms/step - loss: 675594.1155 - accuracy: 0.3750\n",
      "\n",
      "Epoch 00010: loss did not improve from 601289.17300\n",
      "Epoch 11/100\n",
      "1000/1000 [==============================] - 2s 2ms/step - loss: 684716.9580 - accuracy: 0.3750\n",
      "\n",
      "Epoch 00011: loss did not improve from 601289.17300\n",
      "Epoch 12/100\n",
      "1000/1000 [==============================] - 3s 3ms/step - loss: 693245.9420 - accuracy: 0.3750\n",
      "\n",
      "Epoch 00012: loss did not improve from 601289.17300\n",
      "Epoch 13/100\n",
      "1000/1000 [==============================] - 2s 2ms/step - loss: 701989.6690 - accuracy: 0.3750\n",
      "\n",
      "Epoch 00013: loss did not improve from 601289.17300\n",
      "Epoch 14/100\n",
      "1000/1000 [==============================] - 3s 3ms/step - loss: 709290.4170 - accuracy: 0.3750\n",
      "\n",
      "Epoch 00014: loss did not improve from 601289.17300\n",
      "Epoch 15/100\n",
      "1000/1000 [==============================] - 3s 3ms/step - loss: 717352.0940 - accuracy: 0.3750\n",
      "\n",
      "Epoch 00015: loss did not improve from 601289.17300\n",
      "Epoch 16/100\n",
      "1000/1000 [==============================] - 3s 3ms/step - loss: 725567.6370 - accuracy: 0.3750\n",
      "\n",
      "Epoch 00016: loss did not improve from 601289.17300\n",
      "Epoch 17/100\n",
      "1000/1000 [==============================] - 2s 2ms/step - loss: 729392.8195 - accuracy: 0.3750\n",
      "\n",
      "Epoch 00017: loss did not improve from 601289.17300\n",
      "Epoch 18/100\n",
      "1000/1000 [==============================] - 2s 2ms/step - loss: 738992.4738 - accuracy: 0.3750\n",
      "\n",
      "Epoch 00018: loss did not improve from 601289.17300\n",
      "Epoch 19/100\n",
      "1000/1000 [==============================] - 2s 2ms/step - loss: 749472.7970 - accuracy: 0.3750\n",
      "\n",
      "Epoch 00019: loss did not improve from 601289.17300\n",
      "Epoch 20/100\n",
      "1000/1000 [==============================] - 3s 3ms/step - loss: 756434.6350 - accuracy: 0.3750\n",
      "\n",
      "Epoch 00020: loss did not improve from 601289.17300\n",
      "Epoch 21/100\n",
      "1000/1000 [==============================] - 3s 3ms/step - loss: 763810.1700 - accuracy: 0.3750\n",
      "\n",
      "Epoch 00021: loss did not improve from 601289.17300\n",
      "Epoch 22/100\n",
      "1000/1000 [==============================] - 3s 3ms/step - loss: 772082.9790 - accuracy: 0.3750\n",
      "\n",
      "Epoch 00022: loss did not improve from 601289.17300\n",
      "Epoch 23/100\n",
      "1000/1000 [==============================] - 3s 3ms/step - loss: 778839.5355 - accuracy: 0.3750\n",
      "\n",
      "Epoch 00023: loss did not improve from 601289.17300\n",
      "Epoch 24/100\n",
      "1000/1000 [==============================] - 2s 2ms/step - loss: 787048.9755 - accuracy: 0.3750\n",
      "\n",
      "Epoch 00024: loss did not improve from 601289.17300\n",
      "Epoch 25/100\n",
      "1000/1000 [==============================] - 2s 2ms/step - loss: 797045.0295 - accuracy: 0.3750\n",
      "\n",
      "Epoch 00025: loss did not improve from 601289.17300\n",
      "Epoch 26/100\n",
      "1000/1000 [==============================] - 2s 2ms/step - loss: 803120.2125 - accuracy: 0.3750\n",
      "\n",
      "Epoch 00026: loss did not improve from 601289.17300\n",
      "Epoch 27/100\n",
      "1000/1000 [==============================] - 3s 3ms/step - loss: 811565.2260 - accuracy: 0.3750\n",
      "\n",
      "Epoch 00027: loss did not improve from 601289.17300\n",
      "Epoch 28/100\n",
      "1000/1000 [==============================] - 3s 3ms/step - loss: 819928.5145 - accuracy: 0.3750\n",
      "\n",
      "Epoch 00028: loss did not improve from 601289.17300\n",
      "Epoch 29/100\n",
      "1000/1000 [==============================] - 3s 3ms/step - loss: 830604.7750 - accuracy: 0.3750\n",
      "\n",
      "Epoch 00029: loss did not improve from 601289.17300\n",
      "Epoch 30/100\n",
      "1000/1000 [==============================] - 3s 3ms/step - loss: 836672.1780 - accuracy: 0.3750\n",
      "\n",
      "Epoch 00030: loss did not improve from 601289.17300\n",
      "Epoch 31/100\n",
      "1000/1000 [==============================] - 3s 3ms/step - loss: 844067.4380 - accuracy: 0.3750\n",
      "\n",
      "Epoch 00031: loss did not improve from 601289.17300\n",
      "Epoch 32/100\n",
      "1000/1000 [==============================] - 3s 3ms/step - loss: 851684.1450 - accuracy: 0.3750\n",
      "\n",
      "Epoch 00032: loss did not improve from 601289.17300\n",
      "Epoch 33/100\n",
      "1000/1000 [==============================] - 3s 3ms/step - loss: 857717.6160 - accuracy: 0.3750\n",
      "\n",
      "Epoch 00033: loss did not improve from 601289.17300\n",
      "Epoch 34/100\n",
      "1000/1000 [==============================] - 3s 3ms/step - loss: 867268.7395 - accuracy: 0.3750\n",
      "\n",
      "Epoch 00034: loss did not improve from 601289.17300\n",
      "Epoch 35/100\n",
      "1000/1000 [==============================] - 3s 3ms/step - loss: 874870.9900 - accuracy: 0.3750\n",
      "\n",
      "Epoch 00035: loss did not improve from 601289.17300\n",
      "Epoch 36/100\n",
      "1000/1000 [==============================] - 3s 3ms/step - loss: 882725.2638 - accuracy: 0.3750\n",
      "\n",
      "Epoch 00036: loss did not improve from 601289.17300\n",
      "Epoch 37/100\n",
      "1000/1000 [==============================] - 3s 3ms/step - loss: 889783.0800 - accuracy: 0.3750\n",
      "\n",
      "Epoch 00037: loss did not improve from 601289.17300\n",
      "Epoch 38/100\n",
      "1000/1000 [==============================] - 3s 3ms/step - loss: 897485.4290 - accuracy: 0.3750\n",
      "\n",
      "Epoch 00038: loss did not improve from 601289.17300\n",
      "Epoch 39/100\n",
      "1000/1000 [==============================] - 3s 3ms/step - loss: 904252.3635 - accuracy: 0.3750\n",
      "\n",
      "Epoch 00039: loss did not improve from 601289.17300\n",
      "Epoch 40/100\n",
      "1000/1000 [==============================] - 3s 3ms/step - loss: 913088.6280 - accuracy: 0.3750\n",
      "\n",
      "Epoch 00040: loss did not improve from 601289.17300\n",
      "Epoch 41/100\n",
      "1000/1000 [==============================] - 3s 3ms/step - loss: 919071.5260 - accuracy: 0.3750\n",
      "\n",
      "Epoch 00041: loss did not improve from 601289.17300\n",
      "Epoch 42/100\n",
      "1000/1000 [==============================] - 3s 3ms/step - loss: 930062.9510 - accuracy: 0.3750\n",
      "\n",
      "Epoch 00042: loss did not improve from 601289.17300\n",
      "Epoch 43/100\n",
      "1000/1000 [==============================] - 3s 3ms/step - loss: 935822.4820 - accuracy: 0.3750\n",
      "\n",
      "Epoch 00043: loss did not improve from 601289.17300\n",
      "Epoch 44/100\n",
      "1000/1000 [==============================] - 3s 3ms/step - loss: 944855.3640 - accuracy: 0.3750\n",
      "\n",
      "Epoch 00044: loss did not improve from 601289.17300\n",
      "Epoch 45/100\n",
      "1000/1000 [==============================] - 3s 3ms/step - loss: 953123.6120 - accuracy: 0.3750\n",
      "\n",
      "Epoch 00045: loss did not improve from 601289.17300\n",
      "Epoch 46/100\n",
      "1000/1000 [==============================] - 3s 3ms/step - loss: 961433.5920 - accuracy: 0.3750\n",
      "\n",
      "Epoch 00046: loss did not improve from 601289.17300\n",
      "Epoch 47/100\n",
      "1000/1000 [==============================] - 3s 3ms/step - loss: 968219.4070 - accuracy: 0.3750\n",
      "\n",
      "Epoch 00047: loss did not improve from 601289.17300\n",
      "Epoch 48/100\n",
      "1000/1000 [==============================] - 3s 3ms/step - loss: 976848.9930 - accuracy: 0.3750\n",
      "\n",
      "Epoch 00048: loss did not improve from 601289.17300\n",
      "Epoch 49/100\n",
      "1000/1000 [==============================] - 3s 3ms/step - loss: 983978.1208 - accuracy: 0.3750\n",
      "\n",
      "Epoch 00049: loss did not improve from 601289.17300\n",
      "Epoch 50/100\n",
      "1000/1000 [==============================] - 3s 3ms/step - loss: 989751.3567 - accuracy: 0.3750\n",
      "\n",
      "Epoch 00050: loss did not improve from 601289.17300\n",
      "Epoch 51/100\n"
     ]
    },
    {
     "name": "stdout",
     "output_type": "stream",
     "text": [
      "1000/1000 [==============================] - 3s 3ms/step - loss: 996975.6265 - accuracy: 0.3750\n",
      "\n",
      "Epoch 00051: loss did not improve from 601289.17300\n",
      "Epoch 52/100\n",
      "1000/1000 [==============================] - 3s 3ms/step - loss: 1006051.4760 - accuracy: 0.3750\n",
      "\n",
      "Epoch 00052: loss did not improve from 601289.17300\n",
      "Epoch 53/100\n",
      "1000/1000 [==============================] - 3s 3ms/step - loss: 1015639.0650 - accuracy: 0.3750\n",
      "\n",
      "Epoch 00053: loss did not improve from 601289.17300\n",
      "Epoch 54/100\n",
      "1000/1000 [==============================] - 3s 3ms/step - loss: 1023562.9310 - accuracy: 0.3750\n",
      "\n",
      "Epoch 00054: loss did not improve from 601289.17300\n",
      "Epoch 55/100\n",
      "1000/1000 [==============================] - 3s 3ms/step - loss: 1031342.2570 - accuracy: 0.3750\n",
      "\n",
      "Epoch 00055: loss did not improve from 601289.17300\n",
      "Epoch 56/100\n",
      "1000/1000 [==============================] - 3s 3ms/step - loss: 1037391.1875 - accuracy: 0.3750\n",
      "\n",
      "Epoch 00056: loss did not improve from 601289.17300\n",
      "Epoch 57/100\n",
      "1000/1000 [==============================] - 3s 3ms/step - loss: 1047553.3690 - accuracy: 0.3750\n",
      "\n",
      "Epoch 00057: loss did not improve from 601289.17300\n",
      "Epoch 58/100\n",
      "1000/1000 [==============================] - 3s 3ms/step - loss: 1055731.3410 - accuracy: 0.3750\n",
      "\n",
      "Epoch 00058: loss did not improve from 601289.17300\n",
      "Epoch 59/100\n",
      "1000/1000 [==============================] - 3s 3ms/step - loss: 1061433.5000 - accuracy: 0.3750\n",
      "\n",
      "Epoch 00059: loss did not improve from 601289.17300\n",
      "Epoch 60/100\n",
      "1000/1000 [==============================] - 3s 3ms/step - loss: 1070305.8360 - accuracy: 0.3750\n",
      "\n",
      "Epoch 00060: loss did not improve from 601289.17300\n",
      "Epoch 61/100\n",
      "1000/1000 [==============================] - 3s 3ms/step - loss: 1079069.7007 - accuracy: 0.3750\n",
      "\n",
      "Epoch 00061: loss did not improve from 601289.17300\n",
      "Epoch 62/100\n",
      "1000/1000 [==============================] - 3s 3ms/step - loss: 1086925.2975 - accuracy: 0.3750\n",
      "\n",
      "Epoch 00062: loss did not improve from 601289.17300\n",
      "Epoch 63/100\n",
      "1000/1000 [==============================] - 3s 3ms/step - loss: 1096034.2920 - accuracy: 0.3750\n",
      "\n",
      "Epoch 00063: loss did not improve from 601289.17300\n",
      "Epoch 64/100\n",
      "1000/1000 [==============================] - 3s 3ms/step - loss: 1105912.8180 - accuracy: 0.3750\n",
      "\n",
      "Epoch 00064: loss did not improve from 601289.17300\n",
      "Epoch 65/100\n",
      "1000/1000 [==============================] - 3s 3ms/step - loss: 1113767.7470 - accuracy: 0.3750\n",
      "\n",
      "Epoch 00065: loss did not improve from 601289.17300\n",
      "Epoch 66/100\n",
      "1000/1000 [==============================] - 3s 3ms/step - loss: 1123094.4620 - accuracy: 0.3750\n",
      "\n",
      "Epoch 00066: loss did not improve from 601289.17300\n",
      "Epoch 67/100\n",
      "1000/1000 [==============================] - 3s 3ms/step - loss: 1128975.7810 - accuracy: 0.3750\n",
      "\n",
      "Epoch 00067: loss did not improve from 601289.17300\n",
      "Epoch 68/100\n",
      "1000/1000 [==============================] - 3s 3ms/step - loss: 1135701.9678 - accuracy: 0.3750\n",
      "\n",
      "Epoch 00068: loss did not improve from 601289.17300\n",
      "Epoch 69/100\n",
      "1000/1000 [==============================] - 3s 3ms/step - loss: 1144274.5700 - accuracy: 0.3750\n",
      "\n",
      "Epoch 00069: loss did not improve from 601289.17300\n",
      "Epoch 70/100\n",
      "1000/1000 [==============================] - 3s 3ms/step - loss: 1153347.5690 - accuracy: 0.3750\n",
      "\n",
      "Epoch 00070: loss did not improve from 601289.17300\n",
      "Epoch 71/100\n",
      "1000/1000 [==============================] - 3s 3ms/step - loss: 1162808.6440 - accuracy: 0.3750\n",
      "\n",
      "Epoch 00071: loss did not improve from 601289.17300\n",
      "Epoch 72/100\n",
      "1000/1000 [==============================] - 3s 3ms/step - loss: 1169907.6850 - accuracy: 0.3750\n",
      "\n",
      "Epoch 00072: loss did not improve from 601289.17300\n",
      "Epoch 73/100\n",
      "1000/1000 [==============================] - 3s 3ms/step - loss: 1177914.4890 - accuracy: 0.3750\n",
      "\n",
      "Epoch 00073: loss did not improve from 601289.17300\n",
      "Epoch 74/100\n",
      "1000/1000 [==============================] - 3s 3ms/step - loss: 1186116.1385 - accuracy: 0.3750\n",
      "\n",
      "Epoch 00074: loss did not improve from 601289.17300\n",
      "Epoch 75/100\n",
      "1000/1000 [==============================] - 3s 3ms/step - loss: 1197143.8160 - accuracy: 0.3750\n",
      "\n",
      "Epoch 00075: loss did not improve from 601289.17300\n",
      "Epoch 76/100\n",
      "1000/1000 [==============================] - 3s 3ms/step - loss: 1205820.7760 - accuracy: 0.3750\n",
      "\n",
      "Epoch 00076: loss did not improve from 601289.17300\n",
      "Epoch 77/100\n",
      "1000/1000 [==============================] - 3s 3ms/step - loss: 1213937.6560 - accuracy: 0.3750\n",
      "\n",
      "Epoch 00077: loss did not improve from 601289.17300\n",
      "Epoch 78/100\n",
      "1000/1000 [==============================] - 3s 3ms/step - loss: 1219623.4080 - accuracy: 0.3750\n",
      "\n",
      "Epoch 00078: loss did not improve from 601289.17300\n",
      "Epoch 79/100\n",
      "1000/1000 [==============================] - 3s 3ms/step - loss: 1227429.9900 - accuracy: 0.3750\n",
      "\n",
      "Epoch 00079: loss did not improve from 601289.17300\n",
      "Epoch 80/100\n",
      "1000/1000 [==============================] - 3s 3ms/step - loss: 1237277.1270 - accuracy: 0.3750\n",
      "\n",
      "Epoch 00080: loss did not improve from 601289.17300\n",
      "Epoch 81/100\n",
      "1000/1000 [==============================] - 3s 3ms/step - loss: 1246056.3080 - accuracy: 0.3750\n",
      "\n",
      "Epoch 00081: loss did not improve from 601289.17300\n",
      "Epoch 82/100\n",
      "1000/1000 [==============================] - 3s 3ms/step - loss: 1251813.8450 - accuracy: 0.3750\n",
      "\n",
      "Epoch 00082: loss did not improve from 601289.17300\n",
      "Epoch 83/100\n",
      "1000/1000 [==============================] - 3s 3ms/step - loss: 1260585.4400 - accuracy: 0.3750: 1s - loss:\n",
      "\n",
      "Epoch 00083: loss did not improve from 601289.17300\n",
      "Epoch 84/100\n",
      "1000/1000 [==============================] - 3s 3ms/step - loss: 1267902.5155 - accuracy: 0.3750\n",
      "\n",
      "Epoch 00084: loss did not improve from 601289.17300\n",
      "Epoch 85/100\n",
      "1000/1000 [==============================] - 3s 3ms/step - loss: 1276111.8570 - accuracy: 0.3750\n",
      "\n",
      "Epoch 00085: loss did not improve from 601289.17300\n",
      "Epoch 86/100\n",
      "1000/1000 [==============================] - 3s 3ms/step - loss: 1285805.1480 - accuracy: 0.3750\n",
      "\n",
      "Epoch 00086: loss did not improve from 601289.17300\n",
      "Epoch 87/100\n",
      "1000/1000 [==============================] - 3s 3ms/step - loss: 1294973.1080 - accuracy: 0.3750\n",
      "\n",
      "Epoch 00087: loss did not improve from 601289.17300\n",
      "Epoch 88/100\n",
      "1000/1000 [==============================] - 3s 3ms/step - loss: 1301370.2970 - accuracy: 0.3750\n",
      "\n",
      "Epoch 00088: loss did not improve from 601289.17300\n",
      "Epoch 89/100\n",
      "1000/1000 [==============================] - 3s 3ms/step - loss: 1309218.2830 - accuracy: 0.3750\n",
      "\n",
      "Epoch 00089: loss did not improve from 601289.17300\n",
      "Epoch 90/100\n",
      "1000/1000 [==============================] - 3s 3ms/step - loss: 1317713.2820 - accuracy: 0.3750\n",
      "\n",
      "Epoch 00090: loss did not improve from 601289.17300\n",
      "Epoch 91/100\n",
      "1000/1000 [==============================] - 3s 3ms/step - loss: 1327456.1820 - accuracy: 0.3750\n",
      "\n",
      "Epoch 00091: loss did not improve from 601289.17300\n",
      "Epoch 92/100\n",
      "1000/1000 [==============================] - 3s 3ms/step - loss: 1333696.3480 - accuracy: 0.3750\n",
      "\n",
      "Epoch 00092: loss did not improve from 601289.17300\n",
      "Epoch 93/100\n",
      "1000/1000 [==============================] - 3s 3ms/step - loss: 1340763.3890 - accuracy: 0.3750\n",
      "\n",
      "Epoch 00093: loss did not improve from 601289.17300\n",
      "Epoch 94/100\n",
      "1000/1000 [==============================] - 3s 3ms/step - loss: 1346628.6660 - accuracy: 0.3750\n",
      "\n",
      "Epoch 00094: loss did not improve from 601289.17300\n",
      "Epoch 95/100\n",
      "1000/1000 [==============================] - 3s 3ms/step - loss: 1353582.8440 - accuracy: 0.3750\n",
      "\n",
      "Epoch 00095: loss did not improve from 601289.17300\n",
      "Epoch 96/100\n",
      "1000/1000 [==============================] - 3s 3ms/step - loss: 1362162.8820 - accuracy: 0.3750\n",
      "\n",
      "Epoch 00096: loss did not improve from 601289.17300\n",
      "Epoch 97/100\n",
      "1000/1000 [==============================] - 3s 3ms/step - loss: 1374088.2310 - accuracy: 0.3750\n",
      "\n",
      "Epoch 00097: loss did not improve from 601289.17300\n",
      "Epoch 98/100\n",
      "1000/1000 [==============================] - 3s 3ms/step - loss: 1382063.1380 - accuracy: 0.3750\n",
      "\n",
      "Epoch 00098: loss did not improve from 601289.17300\n",
      "Epoch 99/100\n",
      "1000/1000 [==============================] - 3s 3ms/step - loss: 1390945.3920 - accuracy: 0.3750\n",
      "\n",
      "Epoch 00099: loss did not improve from 601289.17300\n",
      "Epoch 100/100\n",
      "1000/1000 [==============================] - 3s 3ms/step - loss: 1397572.9840 - accuracy: 0.3750\n",
      "\n",
      "Epoch 00100: loss did not improve from 601289.17300\n"
     ]
    }
   ],
   "source": [
    "model.compile(optimizer='adam', loss='categorical_crossentropy', metrics=['accuracy'])\n",
    "path = r'C:\\Users\\mosta\\Desktop\\Deep Learning Projects\\Projects\\Lib\\word_pred_Model4.h5'\n",
    "checkpoint = ModelCheckpoint(path, monitor='loss', verbose=1, save_best_only=True, mode='min')\n",
    "model.fit([sequencesInputEncode, sequencesInputDecode], sequencesTargetDecode, epochs=100,verbose=1,callbacks=[checkpoint])\n",
    "model.save('s9s.h5')\n",
    "#dump(tokenizer,open('tokenizer_Model9','wb')) "
   ]
  },
  {
   "cell_type": "code",
   "execution_count": null,
   "metadata": {},
   "outputs": [],
   "source": [
    "model.compile(optimizer='adam', loss='categorical_crossentropy', metrics=['accuracy'])\n",
    "model.fit([sequencesInputEncode, sequencesInputDecode], sequencesTargetDecode, epochs=25)\n",
    "model.save('s2s.h5')"
   ]
  },
  {
   "cell_type": "code",
   "execution_count": 27,
   "metadata": {},
   "outputs": [],
   "source": [
    "# Define Sampling Models"
   ]
  },
  {
   "cell_type": "code",
   "execution_count": 34,
   "metadata": {},
   "outputs": [
    {
     "name": "stdout",
     "output_type": "stream",
     "text": [
      "Model: \"model_6\"\n",
      "_________________________________________________________________\n",
      "Layer (type)                 Output Shape              Param #   \n",
      "=================================================================\n",
      "input_1 (InputLayer)         (None, None)              0         \n",
      "_________________________________________________________________\n",
      "embedding_1 (Embedding)      (None, None, 300)         1248600   \n",
      "_________________________________________________________________\n",
      "lstm_1 (LSTM)                [(None, 300), (None, 300) 721200    \n",
      "=================================================================\n",
      "Total params: 1,969,800\n",
      "Trainable params: 1,969,800\n",
      "Non-trainable params: 0\n",
      "_________________________________________________________________\n"
     ]
    }
   ],
   "source": [
    "# Define Encoder Inference Model\n",
    "encoder_model = Model(encoder_inputs, encoder_states)\n",
    "encoder_model.summary()"
   ]
  },
  {
   "cell_type": "code",
   "execution_count": 35,
   "metadata": {},
   "outputs": [
    {
     "name": "stdout",
     "output_type": "stream",
     "text": [
      "Model: \"model_7\"\n",
      "__________________________________________________________________________________________________\n",
      "Layer (type)                    Output Shape         Param #     Connected to                     \n",
      "==================================================================================================\n",
      "input_2 (InputLayer)            (None, None)         0                                            \n",
      "__________________________________________________________________________________________________\n",
      "embedding_2 (Embedding)         (None, None, 300)    1217400     input_2[0][0]                    \n",
      "__________________________________________________________________________________________________\n",
      "input_7 (InputLayer)            (None, None)         0                                            \n",
      "__________________________________________________________________________________________________\n",
      "input_8 (InputLayer)            (None, None)         0                                            \n",
      "__________________________________________________________________________________________________\n",
      "lstm_2 (LSTM)                   [(None, 300), (None, 721200      embedding_2[3][0]                \n",
      "                                                                 input_7[0][0]                    \n",
      "                                                                 input_8[0][0]                    \n",
      "==================================================================================================\n",
      "Total params: 1,938,600\n",
      "Trainable params: 1,938,600\n",
      "Non-trainable params: 0\n",
      "__________________________________________________________________________________________________\n"
     ]
    }
   ],
   "source": [
    "# Define Decoder Inference Model\n",
    "decoder_state_input_h = Input(shape=(None,))\n",
    "decoder_state_input_c = Input(shape=(None,))\n",
    "decoder_states_inputs = [decoder_state_input_h, decoder_state_input_c]\n",
    "decoder_inference = decoder_embed(decoder_inputs)\n",
    "decoder_inference_outputs, state_h, state_c = decoder_lstm(decoder_inference, initial_state=decoder_states_inputs)\n",
    "decoder_states = [state_h, state_c]\n",
    "#decoder_inference_outputs = decoder_dense(decoder_inference_outputs)\n",
    "decoder_model = Model([decoder_inputs] + decoder_states_inputs, [decoder_inference_outputs] + decoder_states)\n",
    "decoder_model.summary()"
   ]
  },
  {
   "cell_type": "code",
   "execution_count": 36,
   "metadata": {},
   "outputs": [],
   "source": [
    "# Sampling Function"
   ]
  },
  {
   "cell_type": "code",
   "execution_count": 37,
   "metadata": {},
   "outputs": [],
   "source": [
    "def decode_sequence(input_seq):\n",
    "    # Encode the input as state vectors.\n",
    "    states_value = encoder_model.predict(input_seq)\n",
    "    # Generate empty target sequence of length 1.\n",
    "    target_seq = np.zeros((1,1))\n",
    "    # Populate the first character of target sequence with the start character.\n",
    "    #target_seq[0, 0] = target_token_index['START_']\n",
    "    # Sampling loop for a batch of sequences (to simplify, here we assume a batch of size 1).\n",
    "    stop_condition = False\n",
    "    decoded_sentence = ''\n",
    "    while not stop_condition:\n",
    "        output_tokens, h, c = decoder_model.predict([target_seq] + states_value)\n",
    "        \n",
    "        # Sample a token\n",
    "        sampled_token_index = np.argmax(output_tokens[0, :])\n",
    "        sampled_char = reverse_target_char_index[sampled_token_index]\n",
    "        decoded_sentence += ' '+sampled_char\n",
    "        \n",
    "        # Exit condition: either hit max length or find stop character.\n",
    "        #if (sampled_char == '_END' or len(decoded_sentence) > max_len):\n",
    "            #stop_condition = True\n",
    "        \n",
    "        if (sampled_char == '\\n' or len(decoded_sentence) > max_len):\n",
    "            stop_condition = True\n",
    "            \n",
    "        # Update the target sequence (of length 1).\n",
    "        target_seq = np.zeros((1,1))\n",
    "        target_seq[0, 0] = sampled_token_index\n",
    "        # Update states\n",
    "        states_value = [h, c]\n",
    "    return decoded_sentence"
   ]
  },
  {
   "cell_type": "code",
   "execution_count": null,
   "metadata": {},
   "outputs": [],
   "source": [
    "def tokenBacktoWords(sequencesInput):\n",
    "    decoded_sentence = ''\n",
    "    for i in sequencesInput:\n",
    "        number = sequencesInput[:,i]\n",
    "        char = reverse_input_char_index[number]\n",
    "        decoded_sentence += ' '+char\n",
    "    return decoded_sentence"
   ]
  },
  {
   "cell_type": "code",
   "execution_count": 38,
   "metadata": {},
   "outputs": [
    {
     "name": "stdout",
     "output_type": "stream",
     "text": [
      "-\n",
      "Input Sentence:  does he say anywhere on the book that emacs is better than vi?\n",
      "Decoded Sentence:   1 1 how newlinechar newlinechar newlinechar newlinechar\n",
      "-\n",
      "Input Sentence:  i'm just going by what you wrote here, amigo. there is only one rami james, graphic designer, tel aviv resident, who goes by the nickname of lonesmurf. which is it, swiss, israeli, or american? newlinechar  newlinechar http://www.pokermoons.com/\n",
      "Decoded Sentence:   1 how how newlinechar newlinechar newlinechar newlinechar\n",
      "-\n",
      "Input Sentence:  1. vibrations are fun. newlinechar 2. sometimes they want to do it themselves.\n",
      "Decoded Sentence:   1 how make newlinechar newlinechar newlinechar newlinechar\n",
      "-\n",
      "Input Sentence:  obviously. newlinechar  newlinechar chandler's demise is only evidence that the chandler team had no coherent vision or design.\n",
      "Decoded Sentence:   1 how how newlinechar so newlinechar newlinechar newlinechar\n",
      "-\n",
      "Input Sentence:  what about newlinechar  newlinechar *the people should ensure that votes are manually counted under public scrutiny in all demographic areas*? newlinechar  newlinechar simpler, eh? newlinechar \n",
      "Decoded Sentence:   1 1 how newlinechar newlinechar newlinechar newlinechar\n",
      "-\n",
      "Input Sentence:  well said. i believe you have a point too! i'll put a gold star on everyone's chart!\n",
      "Decoded Sentence:   1 how make newlinechar newlinechar newlinechar newlinechar\n",
      "-\n",
      "Input Sentence:  congratulations!\n",
      "Decoded Sentence:   1 how how newlinechar that newlinechar newlinechar\n",
      "-\n",
      "Input Sentence:  how are snakes revolting? newlinechar i can't speak for anyone else, but i don't find snakes revolting in the slightest\n",
      "Decoded Sentence:   1 how make newlinechar newlinechar newlinechar newlinechar\n",
      "-\n",
      "Input Sentence:  there's evolution and there's the destruction of the ones with bigger tusks. if elephants had developed some kind of anti-human toxin in their tusks, i could understand. but this is not evolution.\n",
      "Decoded Sentence:   1 1 make newlinechar newlinechar newlinechar newlinechar\n",
      "-\n",
      "Input Sentence:  i might install that, but at work i am using a public computer.  when i leave here i am soo setting the background to goatse and the screensaver to tubgirl.  but not until i leave.\n",
      "Decoded Sentence:   1 how make newlinechar newlinechar newlinechar newlinechar\n"
     ]
    }
   ],
   "source": [
    "for seq_index in range(10):\n",
    "    input_seq = sequencesInputEncode[seq_index: seq_index + 1]\n",
    "    decoded_sentence = decode_sequence(input_seq)\n",
    "    print('-')\n",
    "    print('Input Sentence: ', trainInput[seq_index])\n",
    "    print('Decoded Sentence: ', decoded_sentence)"
   ]
  },
  {
   "cell_type": "code",
   "execution_count": 24,
   "metadata": {},
   "outputs": [
    {
     "data": {
      "text/plain": [
       "\"i'm just going by what you wrote here, amigo. there is only one rami james, graphic designer, tel aviv resident, who goes by the nickname of lonesmurf. which is it, swiss, israeli, or american? newlinechar  newlinechar http://www.pokermoons.com/\""
      ]
     },
     "execution_count": 24,
     "metadata": {},
     "output_type": "execute_result"
    }
   ],
   "source": [
    "trainInput[1]"
   ]
  },
  {
   "cell_type": "code",
   "execution_count": null,
   "metadata": {},
   "outputs": [],
   "source": []
  },
  {
   "cell_type": "code",
   "execution_count": null,
   "metadata": {},
   "outputs": [],
   "source": []
  },
  {
   "cell_type": "code",
   "execution_count": null,
   "metadata": {},
   "outputs": [],
   "source": []
  },
  {
   "cell_type": "code",
   "execution_count": null,
   "metadata": {},
   "outputs": [],
   "source": []
  },
  {
   "cell_type": "code",
   "execution_count": null,
   "metadata": {},
   "outputs": [],
   "source": []
  },
  {
   "cell_type": "code",
   "execution_count": null,
   "metadata": {},
   "outputs": [],
   "source": []
  },
  {
   "cell_type": "code",
   "execution_count": null,
   "metadata": {},
   "outputs": [],
   "source": [
    "# Define an input sequence and process it.\n",
    "encoder_inputs = Input(shape=(None,))\n",
    "encoder = Embedding(nEncoderToken, embedding_dim, weights=[encoder_embedding_matrix], input_length=max_len)(encoder_inputs)\n",
    "x = encoder\n",
    "x, state_h, state_c = LSTM(embedding_dim, return_state=True)(x)\n",
    "encoder_states = [state_h, state_c]\n",
    "\n",
    "# Set up the decoder, using `encoder_states` as initial state.\n",
    "decoder_inputs = Input(shape=(None,))\n",
    "decoder = Embedding(nDecoderToken, embedding_dim, weights=[decoder_embedding_matrix], input_length=max_len)(decoder_inputs)\n",
    "y = decoder\n",
    "y = LSTM(embedding_dim, return_sequences=True)(y, initial_state=encoder_states)\n",
    "decoder_outputs = Dense(nDecoderToken, activation='softmax')(y)\n",
    "\n",
    "# Define the model that will turn `encoder_input_data` & `decoder_input_data` into `decoder_target_data`\n",
    "model = Model([encoder_inputs, decoder_inputs], decoder_outputs)"
   ]
  },
  {
   "cell_type": "code",
   "execution_count": null,
   "metadata": {
    "scrolled": false
   },
   "outputs": [],
   "source": [
    "model.summary()"
   ]
  },
  {
   "cell_type": "code",
   "execution_count": null,
   "metadata": {},
   "outputs": [],
   "source": [
    "model.compile(optimizer='adam', loss='categorical_crossentropy', metrics=['accuracy'])\n",
    "model.fit([trainInputEncoded, trainInputDecoded], trainTargetDecoded, epochs=25)\n",
    "model.save('s2s.h5')"
   ]
  },
  {
   "cell_type": "code",
   "execution_count": null,
   "metadata": {},
   "outputs": [],
   "source": [
    "encoder_inputs = Input(shape=(None,))\n",
    "encoder_embed = Embedding(nEncoderToken, embedding_dim, weights=[encoder_embedding_matrix])(encoder_inputs)\n",
    "\n",
    "# Encoder lstm\n",
    "encoder = LSTM(embedding_dim, return_state=True)\n",
    "encoder_outputs, state_h, state_c = encoder(encoder_embed)\n",
    "encoder_states = [state_h, state_c]"
   ]
  },
  {
   "cell_type": "code",
   "execution_count": null,
   "metadata": {},
   "outputs": [],
   "source": [
    "# Set up the decoder, using `encoder_states` as initial state.\n",
    "decoder_inputs = Input(shape=(None,))\n",
    "decoder_embed = Embedding(nDecoderToken, embedding_dim, weights=[decoder_embedding_matrix])(decoder_inputs)\n",
    "\n",
    "# decoder lstm\n",
    "decoder = LSTM(embedding_dim, return_sequences=True, return_state=True)\n",
    "decoder_outputs, _, _ = decoder(decoder_embed, initial_state=encoder_states)\n",
    "decoder_dense = Dense(max_len, activation='softmax')\n",
    "decoder_outputs = decoder_dense(decoder_outputs)"
   ]
  },
  {
   "cell_type": "code",
   "execution_count": null,
   "metadata": {},
   "outputs": [],
   "source": [
    "# Define the model that will turn `encoder_input_data` & `decoder_input_data` into `decoder_target_data`\n",
    "model = Model([encoder_inputs, decoder_inputs], decoder_outputs)"
   ]
  },
  {
   "cell_type": "code",
   "execution_count": null,
   "metadata": {},
   "outputs": [],
   "source": []
  },
  {
   "cell_type": "code",
   "execution_count": null,
   "metadata": {},
   "outputs": [],
   "source": [
    "# Define Encoder Inference Model\n",
    "encoder_model = Model(encoder_inputs, encoder_states)"
   ]
  },
  {
   "cell_type": "code",
   "execution_count": null,
   "metadata": {},
   "outputs": [],
   "source": [
    "decoder_state_input_h = Input(shape=(None,))\n",
    "decoder_state_input_c = Input(shape=(None,))\n",
    "decoder_states_inputs = [decoder_state_input_h, decoder_state_input_c]\n",
    "decoder_outputs, state_h, state_c = LSTM(embedding_dim, return_sequences=True)(decoder_inputs, initial_state=decoder_states_inputs)\n",
    "decoder_states = [state_h, state_c]\n",
    "decoder_outputs = Dense(max_len, activation='softmax')(decoder_outputs)\n",
    "decoder_model = Model([decoder_inputs] + decoder_states_inputs,[decoder_outputs] + decoder_states)"
   ]
  },
  {
   "cell_type": "code",
   "execution_count": null,
   "metadata": {},
   "outputs": [],
   "source": [
    "encoder"
   ]
  },
  {
   "cell_type": "markdown",
   "metadata": {},
   "source": [
    "# Model"
   ]
  },
  {
   "cell_type": "code",
   "execution_count": null,
   "metadata": {},
   "outputs": [],
   "source": [
    "model.summary()"
   ]
  },
  {
   "cell_type": "code",
   "execution_count": null,
   "metadata": {},
   "outputs": [],
   "source": [
    "model.compile(optimizer='adam', loss='categorical_crossentropy', metrics=['accuracy'])\n",
    "model.fit([sequencesInputEncode, sequencesInputDecode], sequencesTargetDecode, epochs=15)\n",
    "model.save('s2s.h5')"
   ]
  },
  {
   "cell_type": "code",
   "execution_count": null,
   "metadata": {},
   "outputs": [],
   "source": [
    "reverse_input_char_index"
   ]
  },
  {
   "cell_type": "code",
   "execution_count": null,
   "metadata": {},
   "outputs": [],
   "source": [
    "# Define Inference Encoder\n",
    "encoder_inference_inputs = Input(shape=(None, nEncoderToken))\n",
    "encoder_model = Model(encoder_inference_inputs, encoder_states)"
   ]
  },
  {
   "cell_type": "code",
   "execution_count": null,
   "metadata": {},
   "outputs": [],
   "source": [
    "def decode_sequence(input_seq):\n",
    "    # Encode the input as state vectors.\n",
    "    states_value = encoder_model.predict(input_seq)\n",
    "\n",
    "    # Generate empty target sequence of length 1.\n",
    "    target_seq = np.zeros((1, 1))\n",
    "    # Populate the first character of target sequence with the start character.\n",
    "    #target_seq[0, 0, Targetindex['\\t']] = 1.\n",
    "\n",
    "    # Sampling loop for a batch of sequences (to simplify, here we assume a batch of size 1).\n",
    "    stop_condition = False\n",
    "    decoded_sentence = ''\n",
    "    while not stop_condition:\n",
    "        output_tokens, h, c = decoder_model.predict([target_seq] + states_value)\n",
    "\n",
    "        # Sample a token\n",
    "        sampled_token_index = np.argmax(output_tokens[0, -1])\n",
    "        print(output_tokens[0, -1, :])\n",
    "        print(sampled_token_index)\n",
    "        # Index start from 1\n",
    "        if(sampled_token_index == 0):\n",
    "            sampled_token_index = 1\n",
    "        \n",
    "        sampled_char = reverse_target_char_index[sampled_token_index]\n",
    "        decoded_sentence += (' ' + sampled_char)\n",
    "\n",
    "        # Exit condition: either hit max length or find stop character.\n",
    "        if (sampled_char == '\\n' or len(decoded_sentence) > max_len):\n",
    "            stop_condition = True\n",
    "\n",
    "        # Update the target sequence (of length 1).\n",
    "        target_seq = np.zeros((1, 1, nDecoderToken))\n",
    "        target_seq[0, 0, sampled_token_index] = 1.\n",
    "\n",
    "        # Update states\n",
    "        states_value = [h, c]\n",
    "\n",
    "    return decoded_sentence\n",
    "\n",
    "\n",
    "for seq_index in range(50):\n",
    "    # Take one sequence (part of the training set)\n",
    "    # for trying out decoding.\n",
    "    input_seq = sequencesInputEncode[seq_index: seq_index + 1]\n",
    "    decoded_sentence = decode_sequence(input_seq)\n",
    "    print('-')\n",
    "    print('Input sentence:', trainFromSentence[seq_index])\n",
    "    print('Decoded sentence:', decoded_sentence)"
   ]
  },
  {
   "cell_type": "code",
   "execution_count": null,
   "metadata": {},
   "outputs": [],
   "source": [
    "# Define an Encoder\n",
    "encoder_inputs = Input(shape=(None, nEncoderToken))\n",
    "encoder = LSTM(embedding_dim, return_state=True)\n",
    "encoder_outputs, state_h, state_c = encoder(encoder_inputs)\n",
    "encoder_states = [state_h, state_c]\n",
    "\n",
    "# Define a Decoder\n",
    "decoder_inputs = Input(shape=(None, nDecoderToken))\n",
    "# We set up our decoder to return full output sequences, and to return internal states as well. \n",
    "# We don't use the return states in the training model, but we will use them in inference.\n",
    "decoder_lstm = LSTM(embedding_dim, return_sequences=True, return_state=True)\n",
    "decoder_outputs, _, _ = decoder_lstm(decoder_inputs, initial_state=encoder_states)\n",
    "decoder_dense = Dense(nDecoderToken, activation='softmax')\n",
    "decoder_outputs = decoder_dense(decoder_outputs)\n",
    "\n",
    "# Define the model that will turn\n",
    "# `encoder_input_data` & `decoder_input_data` into `decoder_target_data`\n",
    "model = Model([encoder_inputs, decoder_inputs], decoder_outputs)"
   ]
  },
  {
   "cell_type": "code",
   "execution_count": null,
   "metadata": {},
   "outputs": [],
   "source": [
    "# Define sampling models\n",
    "encoder_model = Model(encoder_inputs, encoder_states)\n",
    "\n",
    "decoder_state_input_h = Input(shape=(embedding_dim,))\n",
    "decoder_state_input_c = Input(shape=(embedding_dim,))\n",
    "decoder_states_inputs = [decoder_state_input_h, decoder_state_input_c]\n",
    "decoder_outputs, state_h, state_c = decoder_lstm(decoder_inputs, initial_state=decoder_states_inputs)\n",
    "decoder_states = [state_h, state_c]\n",
    "decoder_outputs = decoder_dense(decoder_outputs)\n",
    "decoder_model = Model([decoder_inputs] + decoder_states_inputs,[decoder_outputs] + decoder_states)"
   ]
  }
 ],
 "metadata": {
  "kernelspec": {
   "display_name": "Python 3",
   "language": "python",
   "name": "python3"
  },
  "language_info": {
   "codemirror_mode": {
    "name": "ipython",
    "version": 3
   },
   "file_extension": ".py",
   "mimetype": "text/x-python",
   "name": "python",
   "nbconvert_exporter": "python",
   "pygments_lexer": "ipython3",
   "version": "3.7.4"
  }
 },
 "nbformat": 4,
 "nbformat_minor": 2
}
